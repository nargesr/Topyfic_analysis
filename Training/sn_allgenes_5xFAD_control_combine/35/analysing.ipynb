{
 "cells": [
  {
   "cell_type": "code",
   "execution_count": 1,
   "id": "a6fdf728",
   "metadata": {},
   "outputs": [],
   "source": [
    "import scanpy as sc\n",
    "import sys\n",
    "sys.path.insert(0, '/Users/nargesrezaie/Documents/MortazaviLab/Topyfic')\n",
    "import Topyfic\n",
    "import pandas as pd\n",
    "import numpy as np\n",
    "import random\n",
    "import seaborn as sns\n",
    "import matplotlib.pyplot as plt\n",
    "import matplotlib as mpl\n",
    "mpl.rcParams['font.family'] = 'Arial'\n",
    "mpl.rcParams['pdf.fonttype'] = 42\n",
    "sns.set_context('paper')\n",
    "\n",
    "k = 35"
   ]
  },
  {
   "cell_type": "markdown",
   "id": "a24d6a1b",
   "metadata": {},
   "source": [
    "## create topmodel"
   ]
  },
  {
   "cell_type": "code",
   "execution_count": 2,
   "id": "df900737",
   "metadata": {},
   "outputs": [
    {
     "name": "stdout",
     "output_type": "stream",
     "text": [
      "Reading TopModel done!\n",
      "Reading TopModel done!\n",
      "26 topics out of 28 topics have participation more than 263.425\n",
      "Saving topModel as topModel_sn_ModelAD_ENCODE_allGenes.p\n"
     ]
    }
   ],
   "source": [
    "data = sc.read_h5ad(\"../../data/all_ModelAD_ENCODE_final.h5ad\")\n",
    "data = data[data.obs.rep == 1]\n",
    "top_model_5xFAD = Topyfic.read_topModel(f\"../../sn_all_genes_5xFAD_train_rep1/{k}/topmodel_half/topModel_sn_ModelAD_ENCODE_allGenes_5xFAD_rep1_{k}.p\")\n",
    "top_model_5xFAD.model = top_model_5xFAD.rLDA\n",
    "top_model_control = Topyfic.read_topModel(f\"../../sn_all_genes_control_train_rep1/{k}/topmodel_half/topModel_sn_ModelAD_ENCODE_allGenes_control_rep1_{k}.p\")\n",
    "top_model_control.model = top_model_control.rLDA\n",
    "\n",
    "topModels = [top_model_5xFAD, top_model_control]\n",
    "\n",
    "model, n_topics, gene_weights = Topyfic.combine_topModels(topModels,\n",
    "                                                         data=data,\n",
    "                                                         min_cell_participation=263.425)\n",
    "\n",
    "top_model = Topyfic.TopModel(name=\"sn_ModelAD_ENCODE_allGenes\",\n",
    "                             N=n_topics,\n",
    "                             gene_weights=gene_weights,\n",
    "                             model=model)\n",
    "\n",
    "top_model.save_topModel()"
   ]
  }
 ],
 "metadata": {
  "kernelspec": {
   "display_name": "Python 3 (ipykernel)",
   "language": "python",
   "name": "python3"
  },
  "language_info": {
   "codemirror_mode": {
    "name": "ipython",
    "version": 3
   },
   "file_extension": ".py",
   "mimetype": "text/x-python",
   "name": "python",
   "nbconvert_exporter": "python",
   "pygments_lexer": "ipython3",
   "version": "3.10.4"
  }
 },
 "nbformat": 4,
 "nbformat_minor": 5
}
